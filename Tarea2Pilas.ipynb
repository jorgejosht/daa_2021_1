{
  "nbformat": 4,
  "nbformat_minor": 0,
  "metadata": {
    "colab": {
      "name": "Tarea.ipynb",
      "provenance": [],
      "authorship_tag": "ABX9TyM9UyFJLIGR7hoznYplZev5",
      "include_colab_link": true
    },
    "kernelspec": {
      "name": "python3",
      "display_name": "Python 3"
    }
  },
  "cells": [
    {
      "cell_type": "markdown",
      "metadata": {
        "id": "view-in-github",
        "colab_type": "text"
      },
      "source": [
        "<a href=\"https://colab.research.google.com/github/jorgejosht/daa_2021_1/blob/master/Tarea2Pilas.ipynb\" target=\"_parent\"><img src=\"https://colab.research.google.com/assets/colab-badge.svg\" alt=\"Open In Colab\"/></a>"
      ]
    },
    {
      "cell_type": "code",
      "metadata": {
        "id": "pOEuX51bPDes"
      },
      "source": [
        "class Stack:\n",
        "  def __init__(self):\n",
        "    self.__datos=[] #En java se puede meter arraylist\n",
        "\n",
        "  def is_empty(self):\n",
        "    return len(self.__datos)==0\n",
        "\n",
        "  def get_top(self):\n",
        "    return self.__datos[len(self.__datos)-1]\n",
        "\n",
        "  def pop(self):\n",
        "    return self.__datos.pop()\n",
        "\n",
        "  def push(self,valor):\n",
        "    self.__datos.append(valor)\n",
        "\n",
        "  def get_length(self):\n",
        "    return len(self.__datos)\n",
        "\n",
        "  def to_string(self):\n",
        "    print(\"|---------|\")\n",
        "    for i in self.__datos[-1::-1]:\n",
        "      print(i)\n",
        "    print(\"|---------|\")"
      ],
      "execution_count": 28,
      "outputs": []
    },
    {
      "cell_type": "code",
      "metadata": {
        "id": "y-Y1An0EPlGd",
        "outputId": "e173e763-1484-498d-ebf0-35b966b376c5",
        "colab": {
          "base_uri": "https://localhost:8080/",
          "height": 34
        }
      },
      "source": [
        "nombre_archivo = \"Busqueda_binaria.c\"\n",
        "with open(nombre_archivo, \"r\") as archivo:\n",
        "    contenido = archivo.read()\n",
        "    #print(\"El contenido es:\", contenido)\n",
        "    i= 0   \n",
        "    pila= Stack()\n",
        "    for i in range(0,len(contenido)):\n",
        "      simbolo = contenido[i]\n",
        "      if simbolo==\"(\" or simbolo==\"[\" or simbolo==\"{\":\n",
        "        pila.push(\"@\")\n",
        "      elif simbolo==\")\" or simbolo==\"]\" or simbolo==\"}\":\n",
        "        pila.pop()\n",
        "    if pila.is_empty():\n",
        "      print(\"La cadena está balanceada\")\n",
        "    else:\n",
        "      print(\"La cadena no está balanceada\")\n",
        "\n",
        "    \n"
      ],
      "execution_count": 81,
      "outputs": [
        {
          "output_type": "stream",
          "text": [
            "La cadena está balanceada\n"
          ],
          "name": "stdout"
        }
      ]
    }
  ]
}