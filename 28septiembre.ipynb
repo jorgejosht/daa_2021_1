{
  "nbformat": 4,
  "nbformat_minor": 0,
  "metadata": {
    "colab": {
      "name": "28septiembre.ipynb",
      "provenance": [],
      "toc_visible": true,
      "authorship_tag": "ABX9TyOJz8BI1FE/tTTdoNDd0msU",
      "include_colab_link": true
    },
    "kernelspec": {
      "name": "python3",
      "display_name": "Python 3"
    }
  },
  "cells": [
    {
      "cell_type": "markdown",
      "metadata": {
        "id": "view-in-github",
        "colab_type": "text"
      },
      "source": [
        "<a href=\"https://colab.research.google.com/github/jorgejosht/daa_2021_1/blob/master/28septiembre.ipynb\" target=\"_parent\"><img src=\"https://colab.research.google.com/assets/colab-badge.svg\" alt=\"Open In Colab\"/></a>"
      ]
    },
    {
      "cell_type": "markdown",
      "metadata": {
        "id": "U67yKlZyCvDl"
      },
      "source": [
        "#**Sección 1**"
      ]
    },
    {
      "cell_type": "markdown",
      "metadata": {
        "id": "A6a5ENc6C0OX"
      },
      "source": [
        "Aprender a programar en python con la herrramienta de colab research.\n",
        "Y guardar cambios en nuestro repositorio de github."
      ]
    },
    {
      "cell_type": "markdown",
      "metadata": {
        "id": "U3PsAN97DyDL"
      },
      "source": [
        "##Código de ejemplo\n",
        "*negritas*\n",
        "_Itálica_\n",
        "edad=10\n",
        "print(edad)\n",
        "6"
      ]
    },
    {
      "cell_type": "code",
      "metadata": {
        "id": "Cx6wScMJGeIL",
        "outputId": "fee11e23-ef37-4c4c-d1fe-fc04808dddcd",
        "colab": {
          "base_uri": "https://localhost:8080/",
          "height": 34
        }
      },
      "source": [
        "frutas=[]\n",
        "frutas.append('Manzana')\n",
        "frutas.append('Piña')\n",
        "frutas.append('Kiwi')\n",
        "print(frutas)"
      ],
      "execution_count": null,
      "outputs": [
        {
          "output_type": "stream",
          "text": [
            "['Manzana', 'Piña', 'Kiwi']\n"
          ],
          "name": "stdout"
        }
      ]
    },
    {
      "cell_type": "code",
      "metadata": {
        "id": "LYv9zrXVHsn0"
      },
      "source": [
        "archivo=open('prueba_daa.txt','wt')\n",
        "archivo.write(\"hola mundo\")\n",
        "archivo.close()"
      ],
      "execution_count": 3,
      "outputs": []
    }
  ]
}