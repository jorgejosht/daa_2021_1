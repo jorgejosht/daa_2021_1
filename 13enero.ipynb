{
  "nbformat": 4,
  "nbformat_minor": 0,
  "metadata": {
    "colab": {
      "name": "13enero.ipynb",
      "provenance": [],
      "authorship_tag": "ABX9TyM8QfIkWebRbnhyfLx0X4Zt",
      "include_colab_link": true
    },
    "kernelspec": {
      "name": "python3",
      "display_name": "Python 3"
    }
  },
  "cells": [
    {
      "cell_type": "markdown",
      "metadata": {
        "id": "view-in-github",
        "colab_type": "text"
      },
      "source": [
        "<a href=\"https://colab.research.google.com/github/jorgejosht/daa_2021_1/blob/master/13enero.ipynb\" target=\"_parent\"><img src=\"https://colab.research.google.com/assets/colab-badge.svg\" alt=\"Open In Colab\"/></a>"
      ]
    },
    {
      "cell_type": "code",
      "metadata": {
        "id": "LqJ_YenThpX3"
      },
      "source": [
        "class NodoArbol:\r\n",
        "  def __init__(self,dato, left=None, right=None):\r\n",
        "    self.dato=dato\r\n",
        "    self.left=left\r\n",
        "    self.right=right"
      ],
      "execution_count": 9,
      "outputs": []
    },
    {
      "cell_type": "code",
      "metadata": {
        "id": "Y0zwiSMpiZrk"
      },
      "source": [
        "class BinarySearchTree:\r\n",
        "  def __init__(self):\r\n",
        "    self.__root=None\r\n",
        "  \r\n",
        "  def insert(self,value):\r\n",
        "    if self.__root==None:\r\n",
        "      self.__root=NodoArbol(value,None,None)\r\n",
        "    else:\r\n",
        "      self.__insert_nodo__(self.__root,value)\r\n",
        "    \r\n",
        "  def __insert_nodo__(self,nodo,value):\r\n",
        "    if nodo.dato==value:\r\n",
        "      pass\r\n",
        "    elif value<nodo.dato:\r\n",
        "      if nodo.left==None:\r\n",
        "        nodo.left=NodoArbol(value,None,None)\r\n",
        "      else:\r\n",
        "        self.__insert_nodo__(nodo.left,value)\r\n",
        "    else:\r\n",
        "      if nodo.right==None:\r\n",
        "        nodo.right=NodoArbol(value,None,None)\r\n",
        "      else:\r\n",
        "        self.__insert_nodo__(nodo.right,value)"
      ],
      "execution_count": 10,
      "outputs": []
    },
    {
      "cell_type": "code",
      "metadata": {
        "id": "haCGsZzUj8gd"
      },
      "source": [
        "arbolb=BinarySearchTree()\r\n",
        "arbolb.insert(30)\r\n",
        "arbolb.insert(50)\r\n",
        "arbolb.insert(20)\r\n"
      ],
      "execution_count": 11,
      "outputs": []
    }
  ]
}